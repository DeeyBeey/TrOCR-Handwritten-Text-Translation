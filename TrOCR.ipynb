{
 "cells": [
  {
   "cell_type": "code",
   "execution_count": null,
   "metadata": {},
   "outputs": [],
   "source": [
    "from transformers import TrOCRProcessor, VisionEncoderDecoderModel\n",
    "from googletrans import Translator\n",
    "from IPython.display import display\n",
    "from PIL import Image\n",
    "from pydrive.auth import GoogleAuth\n",
    "from pydrive.drive import GoogleDrive\n",
    "import codecs\n",
    "import json"
   ]
  },
  {
   "cell_type": "markdown",
   "metadata": {},
   "source": [
    "### Loading the TrOCR Processor\n",
    "The `TrOCRProcessor` is loaded from the pretrained \"microsoft/trocr-large-handwritten\" model. This processor will be used to prepare images for text recognition.\n"
   ]
  },
  {
   "cell_type": "code",
   "execution_count": null,
   "metadata": {},
   "outputs": [],
   "source": [
    "image_processor = TrOCRProcessor.from_pretrained(\"microsoft/trocr-large-handwritten\")"
   ]
  },
  {
   "cell_type": "markdown",
   "metadata": {},
   "source": [
    "### Loading the Vision Encoder-Decoder Model\n",
    "The `VisionEncoderDecoderModel` is loaded from the pretrained \"microsoft/trocr-large-handwritten\" model. This model will be used to perform text recognition on the processed images.\n"
   ]
  },
  {
   "cell_type": "code",
   "execution_count": null,
   "metadata": {},
   "outputs": [],
   "source": [
    "image_model = VisionEncoderDecoderModel.from_pretrained(\"microsoft/trocr-large-handwritten\")"
   ]
  },
  {
   "cell_type": "markdown",
   "metadata": {},
   "source": [
    "### Authenticating and Setting Up Google Drive Access\n",
    "The `GoogleAuth` and `GoogleDrive` objects are used to authenticate with your Google account and set up access to Google Drive. This will allow you to upload files directly to Google Drive from your notebook."
   ]
  },
  {
   "cell_type": "code",
   "execution_count": null,
   "metadata": {},
   "outputs": [],
   "source": [
    "gauth = GoogleAuth()\n",
    "gauth.LocalWebserverAuth()\n",
    "drive = GoogleDrive(gauth)"
   ]
  },
  {
   "cell_type": "markdown",
   "metadata": {},
   "source": [
    "### Displaying the Selected Image\n",
    "The `show_image` function opens an image from the specified path, converts it to RGB format, and displays it within the notebook. The displayed image is returned for further processing."
   ]
  },
  {
   "cell_type": "code",
   "execution_count": null,
   "metadata": {},
   "outputs": [],
   "source": [
    "def show_image(pathStr):\n",
    "    img = Image.open(pathStr).convert(\"RGB\")\n",
    "    display(img)\n",
    "    return img"
   ]
  },
  {
   "cell_type": "markdown",
   "metadata": {},
   "source": [
    "### Performing OCR on the Image\n",
    "The `ocr_image` function processes the input image using the `TrOCRProcessor` to generate pixel values. These are then passed through the `VisionEncoderDecoderModel` to generate text from the image. The decoded text is returned as the final output."
   ]
  },
  {
   "cell_type": "code",
   "execution_count": null,
   "metadata": {},
   "outputs": [],
   "source": [
    "def ocr_image(src_img):\n",
    "    pixel_values = image_processor(images=src_img, return_tensors=\"pt\").pixel_values\n",
    "    generated_ids = image_model.generate(pixel_values)\n",
    "    return image_processor.batch_decode(generated_ids, skip_special_tokens=True)[0]"
   ]
  },
  {
   "cell_type": "markdown",
   "metadata": {},
   "source": [
    "### Displaying Sample Image 1\n",
    "The `sample_image_1` variable stores the image displayed using the `show_image` function, which loads the image from the specified path `C:/TrOCR/Data/db.jpg`."
   ]
  },
  {
   "cell_type": "code",
   "execution_count": null,
   "metadata": {},
   "outputs": [],
   "source": [
    "sample_image_1 = show_image('C:/TrOCR/Data/db.jpg')"
   ]
  },
  {
   "cell_type": "markdown",
   "metadata": {},
   "source": [
    "### Extracting Text from Sample Image 1 and Translating It\n",
    "1. **Perform OCR:** The `ocr_image` function extracts text from `sample_image_1` and stores the result in `img1`.\n",
    "2. **Display OCR Result:** The extracted text is printed.\n",
    "3. **Save OCR Result:** The text is appended to `output.txt` located at `C:/TrOCR/Data/`.\n",
    "4. **Choose Translation Language:** Prompts the user to select a language for translation.\n",
    "5. **Translate Text:** The extracted text is translated from English to the chosen language using `googletrans`.\n",
    "6. **Display Translation:** The translated text is printed.\n",
    "7. **Save Translated Text:** The translated text is appended to `output_trans.txt` located at `C:/TrOCR/Data/`."
   ]
  },
  {
   "cell_type": "code",
   "execution_count": null,
   "metadata": {},
   "outputs": [],
   "source": [
    "img1 = ocr_image(sample_image_1)\n",
    "print(\"The output of the above image is: \\n\")\n",
    "print(img1)\n",
    "print(\"\\n\")\n",
    "with open(\"C:/TrOCR/Data/output.txt\", \"a\") as file:\n",
    "    file.write(\"\\n\")\n",
    "    file.write(img1)\n",
    "\n",
    "print(\"Which language do you want to translate it to? \\n\")\n",
    "print(\"\\n1. Hindi = hi \\n2. Marathi = mr \\n3. Gujarati = gu \\n4. Tamil = ta \\n5. Bengali = bn \\n6. French = fr \\n\")\n",
    "choice = str(input())\n",
    "translator = Translator()\n",
    "result = translator.translate(img1, src='en', dest=choice)\n",
    "print(\"Translation in your choice of langauge is:\\n \")\n",
    "print(result.text)\n",
    "\n",
    "with codecs.open(\"C:/TrOCR/Data/output_trans.txt\", \"a\", \"utf-8\") as file:\n",
    "    file.write(\"\\n\")\n",
    "    json.dump(result.text, file, ensure_ascii=False, indent=4)"
   ]
  },
  {
   "cell_type": "code",
   "execution_count": null,
   "metadata": {},
   "outputs": [],
   "source": [
    "sample_image_2 = show_image('C:/TrOCR/Data/s1.jpg')"
   ]
  },
  {
   "cell_type": "code",
   "execution_count": null,
   "metadata": {},
   "outputs": [],
   "source": [
    "img2 = ocr_image(sample_image_2)\n",
    "print(\"The output of the above image is: \\n\")\n",
    "print(img2)\n",
    "print(\"\\n\")\n",
    "with open(\"C:/TrOCR/Data/output.txt\", \"a\") as file:\n",
    "    file.write(\"\\n\")\n",
    "    file.write(img2)\n",
    "\n",
    "print(\"Which language do you want to translate it to? \\n\")\n",
    "print(\"\\n1. Hindi = hi \\n2. Marathi = mr \\n3. Gujarati = gu \\n4. Tamil = ta \\n5. Bengali = bn \\n6. French = fr \\n\")\n",
    "choice = str(input())\n",
    "translator = Translator()\n",
    "result = translator.translate(img2, src='en', dest=choice)\n",
    "print(\"Translation in your choice of langauge is:\\n \")\n",
    "print(result.text)\n",
    "\n",
    "with codecs.open(\"C:/TrOCR/Data/output_trans.txt\", \"a\", \"utf-8\") as file:\n",
    "    file.write(\"\\n\")\n",
    "    json.dump(result.text, file, ensure_ascii=False, indent=4)"
   ]
  },
  {
   "cell_type": "code",
   "execution_count": null,
   "metadata": {},
   "outputs": [],
   "source": [
    "sample_image_3 = show_image('C:/TrOCR/Data/v1.jpg')"
   ]
  },
  {
   "cell_type": "code",
   "execution_count": null,
   "metadata": {},
   "outputs": [],
   "source": [
    "img3 = ocr_image(sample_image_3)\n",
    "print(\"The output of the above image is: \\n\")\n",
    "print(img3)\n",
    "print(\"\\n\")\n",
    "with open(\"C:/TrOCR/Data/output.txt\", \"a\") as file:\n",
    "    file.write(\"\\n\")\n",
    "    file.write(img3)\n",
    "\n",
    "print(\"Which language do you want to translate it to? \\n\")\n",
    "print(\"\\n1. Hindi = hi \\n2. Marathi = mr \\n3. Gujarati = gu \\n4. Tamil = ta \\n5. Bengali = bn \\n6. French = fr \\n\")\n",
    "choice = str(input())\n",
    "translator = Translator()\n",
    "result = translator.translate(img3, src='en', dest=choice)\n",
    "print(\"Translation in your choice of langauge is:\\n \")\n",
    "print(result.text)\n",
    "\n",
    "with codecs.open(\"C:/TrOCR/Data/output_trans.txt\", \"a\", \"utf-8\") as file:\n",
    "    file.write(\"\\n\")\n",
    "    json.dump(result.text, file, ensure_ascii=False, indent=4)"
   ]
  },
  {
   "cell_type": "markdown",
   "metadata": {},
   "source": [
    "### Uploading Files to Google Drive\n",
    "1. **Upload `output.txt`:** Creates a file on Google Drive with the title `output.txt`, sets its content from the local file located at `C:/TrOCR/Data/output.txt`, and uploads it.\n",
    "2. **Upload `output_trans.txt`:** Creates a file on Google Drive with the title `output_trans.txt`, sets its content from the local file located at `C:/TrOCR/Data/output_trans.txt`, and uploads it.\n",
    "3. **Print Confirmation:** Outputs messages confirming the successful upload of both files."
   ]
  },
  {
   "cell_type": "code",
   "execution_count": null,
   "metadata": {},
   "outputs": [],
   "source": [
    "# Uploading files to Google Drive\n",
    "output_file = drive.CreateFile({'title': 'output.txt'})\n",
    "output_file.SetContentFile('C:/TrOCR/Data/output.txt')\n",
    "output_file.Upload()\n",
    "print(\"output.txt uploaded to Google Drive\")\n",
    "\n",
    "output_trans_file = drive.CreateFile({'title': 'output_trans.txt'})\n",
    "output_trans_file.SetContentFile('C:/TrOCR/Data/output_trans.txt')\n",
    "output_trans_file.Upload()\n",
    "print(\"output_trans.txt uploaded to Google Drive\")"
   ]
  }
 ],
 "metadata": {
  "kernelspec": {
   "display_name": "Python 3 (ipykernel)",
   "language": "python",
   "name": "python3"
  },
  "language_info": {
   "codemirror_mode": {
    "name": "ipython",
    "version": 3
   },
   "file_extension": ".py",
   "mimetype": "text/x-python",
   "name": "python",
   "nbconvert_exporter": "python",
   "pygments_lexer": "ipython3",
   "version": "3.10.11"
  }
 },
 "nbformat": 4,
 "nbformat_minor": 4
}
